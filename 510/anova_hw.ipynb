{
 "cells": [
  {
   "cell_type": "code",
   "execution_count": 4,
   "id": "initial_id",
   "metadata": {
    "collapsed": true,
    "ExecuteTime": {
     "end_time": "2025-01-26T05:44:05.829344Z",
     "start_time": "2025-01-26T05:44:05.819548Z"
    }
   },
   "outputs": [
    {
     "data": {
      "text/plain": "    cereme  brewmethod\n0    36.64           1\n1    39.65           1\n2    37.74           1\n3    35.96           1\n4    38.52           1\n5    21.02           1\n6    24.81           1\n7    34.18           1\n8    23.08           1\n9    70.84           2\n10   46.68           2\n11   73.19           2\n12   57.78           2\n13   48.61           2\n14   72.77           2\n15   65.04           2\n16   62.53           2\n17   54.26           2\n18   56.19           3\n19   36.67           3\n20   35.35           3\n21   40.11           3\n22   33.52           3\n23   37.12           3\n24   37.33           3\n25   32.68           3\n26   48.33           3",
      "text/html": "<div>\n<style scoped>\n    .dataframe tbody tr th:only-of-type {\n        vertical-align: middle;\n    }\n\n    .dataframe tbody tr th {\n        vertical-align: top;\n    }\n\n    .dataframe thead th {\n        text-align: right;\n    }\n</style>\n<table border=\"1\" class=\"dataframe\">\n  <thead>\n    <tr style=\"text-align: right;\">\n      <th></th>\n      <th>cereme</th>\n      <th>brewmethod</th>\n    </tr>\n  </thead>\n  <tbody>\n    <tr>\n      <th>0</th>\n      <td>36.64</td>\n      <td>1</td>\n    </tr>\n    <tr>\n      <th>1</th>\n      <td>39.65</td>\n      <td>1</td>\n    </tr>\n    <tr>\n      <th>2</th>\n      <td>37.74</td>\n      <td>1</td>\n    </tr>\n    <tr>\n      <th>3</th>\n      <td>35.96</td>\n      <td>1</td>\n    </tr>\n    <tr>\n      <th>4</th>\n      <td>38.52</td>\n      <td>1</td>\n    </tr>\n    <tr>\n      <th>5</th>\n      <td>21.02</td>\n      <td>1</td>\n    </tr>\n    <tr>\n      <th>6</th>\n      <td>24.81</td>\n      <td>1</td>\n    </tr>\n    <tr>\n      <th>7</th>\n      <td>34.18</td>\n      <td>1</td>\n    </tr>\n    <tr>\n      <th>8</th>\n      <td>23.08</td>\n      <td>1</td>\n    </tr>\n    <tr>\n      <th>9</th>\n      <td>70.84</td>\n      <td>2</td>\n    </tr>\n    <tr>\n      <th>10</th>\n      <td>46.68</td>\n      <td>2</td>\n    </tr>\n    <tr>\n      <th>11</th>\n      <td>73.19</td>\n      <td>2</td>\n    </tr>\n    <tr>\n      <th>12</th>\n      <td>57.78</td>\n      <td>2</td>\n    </tr>\n    <tr>\n      <th>13</th>\n      <td>48.61</td>\n      <td>2</td>\n    </tr>\n    <tr>\n      <th>14</th>\n      <td>72.77</td>\n      <td>2</td>\n    </tr>\n    <tr>\n      <th>15</th>\n      <td>65.04</td>\n      <td>2</td>\n    </tr>\n    <tr>\n      <th>16</th>\n      <td>62.53</td>\n      <td>2</td>\n    </tr>\n    <tr>\n      <th>17</th>\n      <td>54.26</td>\n      <td>2</td>\n    </tr>\n    <tr>\n      <th>18</th>\n      <td>56.19</td>\n      <td>3</td>\n    </tr>\n    <tr>\n      <th>19</th>\n      <td>36.67</td>\n      <td>3</td>\n    </tr>\n    <tr>\n      <th>20</th>\n      <td>35.35</td>\n      <td>3</td>\n    </tr>\n    <tr>\n      <th>21</th>\n      <td>40.11</td>\n      <td>3</td>\n    </tr>\n    <tr>\n      <th>22</th>\n      <td>33.52</td>\n      <td>3</td>\n    </tr>\n    <tr>\n      <th>23</th>\n      <td>37.12</td>\n      <td>3</td>\n    </tr>\n    <tr>\n      <th>24</th>\n      <td>37.33</td>\n      <td>3</td>\n    </tr>\n    <tr>\n      <th>25</th>\n      <td>32.68</td>\n      <td>3</td>\n    </tr>\n    <tr>\n      <th>26</th>\n      <td>48.33</td>\n      <td>3</td>\n    </tr>\n  </tbody>\n</table>\n</div>"
     },
     "execution_count": 4,
     "metadata": {},
     "output_type": "execute_result"
    }
   ],
   "source": [
    "import pandas as pd \n",
    "espresso_data = pd.read_csv('EspressoData.csv')\n",
    "espresso_data"
   ]
  },
  {
   "cell_type": "code",
   "execution_count": 5,
   "outputs": [
    {
     "data": {
      "text/plain": "            count  mean        std    min    25%    50%    75%    max\nbrewmethod                                                           \n1             9.0  32.4   7.300060  21.02  24.81  35.96  37.74  39.65\n2             9.0  61.3  10.100604  46.68  54.26  62.53  70.84  73.19\n3             9.0  39.7   7.700768  32.68  35.35  37.12  40.11  56.19",
      "text/html": "<div>\n<style scoped>\n    .dataframe tbody tr th:only-of-type {\n        vertical-align: middle;\n    }\n\n    .dataframe tbody tr th {\n        vertical-align: top;\n    }\n\n    .dataframe thead th {\n        text-align: right;\n    }\n</style>\n<table border=\"1\" class=\"dataframe\">\n  <thead>\n    <tr style=\"text-align: right;\">\n      <th></th>\n      <th>count</th>\n      <th>mean</th>\n      <th>std</th>\n      <th>min</th>\n      <th>25%</th>\n      <th>50%</th>\n      <th>75%</th>\n      <th>max</th>\n    </tr>\n    <tr>\n      <th>brewmethod</th>\n      <th></th>\n      <th></th>\n      <th></th>\n      <th></th>\n      <th></th>\n      <th></th>\n      <th></th>\n      <th></th>\n    </tr>\n  </thead>\n  <tbody>\n    <tr>\n      <th>1</th>\n      <td>9.0</td>\n      <td>32.4</td>\n      <td>7.300060</td>\n      <td>21.02</td>\n      <td>24.81</td>\n      <td>35.96</td>\n      <td>37.74</td>\n      <td>39.65</td>\n    </tr>\n    <tr>\n      <th>2</th>\n      <td>9.0</td>\n      <td>61.3</td>\n      <td>10.100604</td>\n      <td>46.68</td>\n      <td>54.26</td>\n      <td>62.53</td>\n      <td>70.84</td>\n      <td>73.19</td>\n    </tr>\n    <tr>\n      <th>3</th>\n      <td>9.0</td>\n      <td>39.7</td>\n      <td>7.700768</td>\n      <td>32.68</td>\n      <td>35.35</td>\n      <td>37.12</td>\n      <td>40.11</td>\n      <td>56.19</td>\n    </tr>\n  </tbody>\n</table>\n</div>"
     },
     "execution_count": 5,
     "metadata": {},
     "output_type": "execute_result"
    }
   ],
   "source": [
    "# Descriptive statistics grouped by brew method\n",
    "descriptive_stats = espresso_data.groupby('brewmethod')['cereme'].describe()\n",
    "descriptive_stats"
   ],
   "metadata": {
    "collapsed": false,
    "ExecuteTime": {
     "end_time": "2025-01-26T05:44:06.221050Z",
     "start_time": "2025-01-26T05:44:06.208403Z"
    }
   },
   "id": "a78c3f1555282c98"
  },
  {
   "cell_type": "code",
   "execution_count": 6,
   "outputs": [
    {
     "name": "stderr",
     "output_type": "stream",
     "text": [
      "/Users/qyu/anaconda3/lib/python3.10/site-packages/scipy/stats/_stats_py.py:1736: UserWarning: kurtosistest only valid for n>=20 ... continuing anyway, n=9\n",
      "  warnings.warn(\"kurtosistest only valid for n>=20 ... continuing \"\n"
     ]
    },
    {
     "data": {
      "text/plain": "            Statistic   p-value\nbrewmethod                     \n1            2.587553  0.274233\n2            1.644417  0.439460\n3            6.208392  0.044861",
      "text/html": "<div>\n<style scoped>\n    .dataframe tbody tr th:only-of-type {\n        vertical-align: middle;\n    }\n\n    .dataframe tbody tr th {\n        vertical-align: top;\n    }\n\n    .dataframe thead th {\n        text-align: right;\n    }\n</style>\n<table border=\"1\" class=\"dataframe\">\n  <thead>\n    <tr style=\"text-align: right;\">\n      <th></th>\n      <th>Statistic</th>\n      <th>p-value</th>\n    </tr>\n    <tr>\n      <th>brewmethod</th>\n      <th></th>\n      <th></th>\n    </tr>\n  </thead>\n  <tbody>\n    <tr>\n      <th>1</th>\n      <td>2.587553</td>\n      <td>0.274233</td>\n    </tr>\n    <tr>\n      <th>2</th>\n      <td>1.644417</td>\n      <td>0.439460</td>\n    </tr>\n    <tr>\n      <th>3</th>\n      <td>6.208392</td>\n      <td>0.044861</td>\n    </tr>\n  </tbody>\n</table>\n</div>"
     },
     "execution_count": 6,
     "metadata": {},
     "output_type": "execute_result"
    }
   ],
   "source": [
    "# Next, I will test the assumptions required for one-way ANOVA: normality, homogeneity of variances, and independence. Let's begin with the normality test\n",
    "from scipy.stats import normaltest\n",
    "\n",
    "# Perform normality test (D'Agostino and Pearson's test) for each brew method\n",
    "normality_results = espresso_data.groupby('brewmethod')['cereme'].apply(normaltest)\n",
    "\n",
    "# Format results for better readability\n",
    "normality_results_df = normality_results.apply(pd.Series).rename(columns={0: 'Statistic', 1: 'p-value'})\n",
    "normality_results_df\n",
    "\n",
    "\n"
   ],
   "metadata": {
    "collapsed": false,
    "ExecuteTime": {
     "end_time": "2025-01-26T05:45:09.578600Z",
     "start_time": "2025-01-26T05:45:08.007428Z"
    }
   },
   "id": "989ec8a5c00151a2"
  },
  {
   "cell_type": "code",
   "execution_count": null,
   "outputs": [],
   "source": [
    "\"\"\"\n",
    "Brew Method 1 and Brew Method 2 show no significant deviation from normality (p>0.05).\n",
    "Brew Method 3 shows a potential deviation from normality (p<0.05).\n",
    "\n",
    "The results of Bartlett's test indicate no significant violation of the homogeneity of variances assumption (p>0.05).\n",
    "\n",
    "Finally, I will assume independence of observations based on the study design, as this cannot be tested statistically from the data alone.\n",
    "\"\"\""
   ],
   "metadata": {
    "collapsed": false
   },
   "id": "5008b4da55cebb83"
  },
  {
   "cell_type": "code",
   "execution_count": 7,
   "outputs": [
    {
     "data": {
      "text/plain": "              Test  Statistic  p-value\n0  Bartlett's Test   0.963309  0.61776",
      "text/html": "<div>\n<style scoped>\n    .dataframe tbody tr th:only-of-type {\n        vertical-align: middle;\n    }\n\n    .dataframe tbody tr th {\n        vertical-align: top;\n    }\n\n    .dataframe thead th {\n        text-align: right;\n    }\n</style>\n<table border=\"1\" class=\"dataframe\">\n  <thead>\n    <tr style=\"text-align: right;\">\n      <th></th>\n      <th>Test</th>\n      <th>Statistic</th>\n      <th>p-value</th>\n    </tr>\n  </thead>\n  <tbody>\n    <tr>\n      <th>0</th>\n      <td>Bartlett's Test</td>\n      <td>0.963309</td>\n      <td>0.61776</td>\n    </tr>\n  </tbody>\n</table>\n</div>"
     },
     "execution_count": 7,
     "metadata": {},
     "output_type": "execute_result"
    }
   ],
   "source": [
    "from scipy.stats import bartlett\n",
    "\n",
    "# Perform Bartlett's test for homogeneity of variances\n",
    "bartlett_stat, bartlett_p = bartlett(\n",
    "    *[espresso_data[espresso_data['brewmethod'] == method]['cereme'] \n",
    "      for method in espresso_data['brewmethod'].unique()]\n",
    ")\n",
    "\n",
    "# Display Bartlett's test results\n",
    "bartlett_results = pd.DataFrame({\n",
    "    \"Test\": [\"Bartlett's Test\"],\n",
    "    \"Statistic\": [bartlett_stat],\n",
    "    \"p-value\": [bartlett_p]\n",
    "})\n",
    "bartlett_results\n",
    "\n",
    "# The one-way ANOVA test reveals a highly significant difference in crème measurements among the brew methods (p<0.001).\n"
   ],
   "metadata": {
    "collapsed": false,
    "ExecuteTime": {
     "end_time": "2025-01-26T05:51:05.555557Z",
     "start_time": "2025-01-26T05:51:05.552732Z"
    }
   },
   "id": "fadc420113301f7a"
  },
  {
   "cell_type": "code",
   "execution_count": 8,
   "outputs": [
    {
     "data": {
      "text/plain": "   group1  group2  meandiff   p-adj    lower    upper  reject\n0       1       2      28.9  0.0000  18.9429  38.8571    True\n1       1       3       7.3  0.1811  -2.6571  17.2571   False\n2       2       3     -21.6  0.0000 -31.5571 -11.6429    True",
      "text/html": "<div>\n<style scoped>\n    .dataframe tbody tr th:only-of-type {\n        vertical-align: middle;\n    }\n\n    .dataframe tbody tr th {\n        vertical-align: top;\n    }\n\n    .dataframe thead th {\n        text-align: right;\n    }\n</style>\n<table border=\"1\" class=\"dataframe\">\n  <thead>\n    <tr style=\"text-align: right;\">\n      <th></th>\n      <th>group1</th>\n      <th>group2</th>\n      <th>meandiff</th>\n      <th>p-adj</th>\n      <th>lower</th>\n      <th>upper</th>\n      <th>reject</th>\n    </tr>\n  </thead>\n  <tbody>\n    <tr>\n      <th>0</th>\n      <td>1</td>\n      <td>2</td>\n      <td>28.9</td>\n      <td>0.0000</td>\n      <td>18.9429</td>\n      <td>38.8571</td>\n      <td>True</td>\n    </tr>\n    <tr>\n      <th>1</th>\n      <td>1</td>\n      <td>3</td>\n      <td>7.3</td>\n      <td>0.1811</td>\n      <td>-2.6571</td>\n      <td>17.2571</td>\n      <td>False</td>\n    </tr>\n    <tr>\n      <th>2</th>\n      <td>2</td>\n      <td>3</td>\n      <td>-21.6</td>\n      <td>0.0000</td>\n      <td>-31.5571</td>\n      <td>-11.6429</td>\n      <td>True</td>\n    </tr>\n  </tbody>\n</table>\n</div>"
     },
     "execution_count": 8,
     "metadata": {},
     "output_type": "execute_result"
    }
   ],
   "source": [
    "from statsmodels.stats.multicomp import pairwise_tukeyhsd\n",
    "\n",
    "# Perform Tukey's Honest Significant Difference (HSD) test for post-hoc analysis\n",
    "tukey_results = pairwise_tukeyhsd(\n",
    "    endog=espresso_data['cereme'],  # Dependent variable\n",
    "    groups=espresso_data['brewmethod'],  # Independent variable\n",
    "    alpha=0.05\n",
    ")\n",
    "\n",
    "# Convert Tukey's results to a DataFrame for display\n",
    "tukey_results_df = pd.DataFrame(data=tukey_results.summary().data[1:], columns=tukey_results.summary().data[0])\n",
    "tukey_results_df\n"
   ],
   "metadata": {
    "collapsed": false,
    "ExecuteTime": {
     "end_time": "2025-01-26T05:55:53.000573Z",
     "start_time": "2025-01-26T05:55:52.757582Z"
    }
   },
   "id": "f678ed94e3c5fe30"
  },
  {
   "cell_type": "code",
   "execution_count": null,
   "outputs": [],
   "source": [
    "# The post-hoc Tukey analysis reveals the following:\n",
    "# \n",
    "# Brew Method 1 vs. Brew Method 2: Significant difference (p<0.05).\n",
    "# Brew Method 1 vs. Brew Method 3: No significant difference (p>0.05).\n",
    "# Brew Method 2 vs. Brew Method 3: Significant difference (p<0.05).\n"
   ],
   "metadata": {
    "collapsed": false
   },
   "id": "52ccc01ad28f4e11"
  },
  {
   "cell_type": "code",
   "execution_count": 9,
   "outputs": [
    {
     "data": {
      "text/plain": "        Metric     Value\n0  Eta-Squared  0.703063",
      "text/html": "<div>\n<style scoped>\n    .dataframe tbody tr th:only-of-type {\n        vertical-align: middle;\n    }\n\n    .dataframe tbody tr th {\n        vertical-align: top;\n    }\n\n    .dataframe thead th {\n        text-align: right;\n    }\n</style>\n<table border=\"1\" class=\"dataframe\">\n  <thead>\n    <tr style=\"text-align: right;\">\n      <th></th>\n      <th>Metric</th>\n      <th>Value</th>\n    </tr>\n  </thead>\n  <tbody>\n    <tr>\n      <th>0</th>\n      <td>Eta-Squared</td>\n      <td>0.703063</td>\n    </tr>\n  </tbody>\n</table>\n</div>"
     },
     "execution_count": 9,
     "metadata": {},
     "output_type": "execute_result"
    }
   ],
   "source": [
    "# size effect \n",
    "# Calculate eta-squared for effect size\n",
    "ss_between = sum(\n",
    "    espresso_data.groupby('brewmethod').size() * \n",
    "    (espresso_data.groupby('brewmethod')['cereme'].mean() - espresso_data['cereme'].mean())**2\n",
    ")\n",
    "ss_total = sum((espresso_data['cereme'] - espresso_data['cereme'].mean())**2)\n",
    "eta_squared = ss_between / ss_total\n",
    "\n",
    "# Display the effect size result\n",
    "effect_size_result = pd.DataFrame({\n",
    "    \"Metric\": [\"Eta-Squared\"],\n",
    "    \"Value\": [eta_squared]\n",
    "})\n",
    "\n",
    "effect_size_result\n",
    "\n"
   ],
   "metadata": {
    "collapsed": false,
    "ExecuteTime": {
     "end_time": "2025-01-26T05:57:36.835507Z",
     "start_time": "2025-01-26T05:57:36.832245Z"
    }
   },
   "id": "e0f7c92c31323137"
  },
  {
   "cell_type": "code",
   "execution_count": null,
   "outputs": [],
   "source": [],
   "metadata": {
    "collapsed": false
   },
   "id": "364095cea0f1eaf2"
  }
 ],
 "metadata": {
  "kernelspec": {
   "display_name": "Python 3",
   "language": "python",
   "name": "python3"
  },
  "language_info": {
   "codemirror_mode": {
    "name": "ipython",
    "version": 2
   },
   "file_extension": ".py",
   "mimetype": "text/x-python",
   "name": "python",
   "nbconvert_exporter": "python",
   "pygments_lexer": "ipython2",
   "version": "2.7.6"
  }
 },
 "nbformat": 4,
 "nbformat_minor": 5
}
